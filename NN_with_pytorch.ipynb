{
  "nbformat": 4,
  "nbformat_minor": 0,
  "metadata": {
    "colab": {
      "provenance": [],
      "authorship_tag": "ABX9TyPKgn346waNuE8gsTKwMBTI",
      "include_colab_link": true
    },
    "kernelspec": {
      "name": "python3",
      "display_name": "Python 3"
    },
    "language_info": {
      "name": "python"
    }
  },
  "cells": [
    {
      "cell_type": "markdown",
      "metadata": {
        "id": "view-in-github",
        "colab_type": "text"
      },
      "source": [
        "<a href=\"https://colab.research.google.com/github/Arghavankas2022/NNwithpytorch/blob/main/NN_with_pytorch.ipynb\" target=\"_parent\"><img src=\"https://colab.research.google.com/assets/colab-badge.svg\" alt=\"Open In Colab\"/></a>"
      ]
    },
    {
      "cell_type": "code",
      "source": [
        "!pip3 install torch torchvision torchaudio"
      ],
      "metadata": {
        "id": "AFIInYuX9Zbe"
      },
      "execution_count": null,
      "outputs": []
    },
    {
      "cell_type": "code",
      "source": [
        "!pip3 list -f pytorch"
      ],
      "metadata": {
        "id": "d_yzDtQI9jfY"
      },
      "execution_count": null,
      "outputs": []
    },
    {
      "cell_type": "code",
      "source": [
        "!wget https://raw.githubusercontent.com/jbrownlee/Datasets/master/pima-indians-diabetes.data.csv"
      ],
      "metadata": {
        "id": "pnMoxPz8CfEt"
      },
      "execution_count": null,
      "outputs": []
    },
    {
      "cell_type": "code",
      "source": [
        "import numpy as np\n",
        "import torch\n",
        "import torch.nn as nn\n",
        "import torch.optim as optim\n",
        "from sklearn.preprocessing import StandardScaler\n",
        "from sklearn.model_selection import train_test_split\n",
        "\n",
        "# Load the dataset, split into input (X) and output (y) variables\n",
        "dataset = np.loadtxt('pima-indians-diabetes.data.csv', delimiter=',')\n",
        "X = dataset[:, 0:8]\n",
        "y = dataset[:, 8]\n",
        "\n",
        "# Normalize the input data\n",
        "scaler = StandardScaler()\n",
        "X = scaler.fit_transform(X)\n",
        "\n",
        "# Split the dataset into train and test sets\n",
        "X_train, X_test, y_train, y_test = train_test_split(X, y, test_size=0.2, random_state=42)\n",
        "\n",
        "# Convert to PyTorch tensors\n",
        "X_train = torch.tensor(X_train, dtype=torch.float32)\n",
        "y_train = torch.tensor(y_train, dtype=torch.float32).reshape(-1, 1)\n",
        "X_test = torch.tensor(X_test, dtype=torch.float32)\n",
        "y_test = torch.tensor(y_test, dtype=torch.float32).reshape(-1, 1)\n",
        "\n",
        "# Define the model\n",
        "class PimaClassifier(nn.Module):\n",
        "    def __init__(self):\n",
        "        super().__init__()\n",
        "        self.hidden1 = nn.Linear(8, 12)\n",
        "        self.act1 = nn.ReLU()\n",
        "        self.hidden2 = nn.Linear(12, 8)\n",
        "        self.act2 = nn.ReLU()\n",
        "        self.output = nn.Linear(8, 1)\n",
        "        self.act_output = nn.Sigmoid()\n",
        "\n",
        "    def forward(self, x):\n",
        "        x = self.act1(self.hidden1(x))\n",
        "        x = self.act2(self.hidden2(x))\n",
        "        x = self.act_output(self.output(x))\n",
        "        return x\n",
        "\n",
        "# Move the model to GPU if available\n",
        "device = torch.device(\"cuda\" if torch.cuda.is_available() else \"cpu\")\n",
        "model = PimaClassifier().to(device)\n",
        "\n",
        "# Define loss function and optimizer\n",
        "loss_fn = nn.BCEWithLogitsLoss()\n",
        "optimizer = optim.Adam(model.parameters(), lr=0.001)\n",
        "\n",
        "n_epochs = 130\n",
        "batch_size = 13\n",
        "\n",
        "# Training loop\n",
        "for epoch in range(n_epochs):\n",
        "    for i in range(0, len(X_train), batch_size):\n",
        "        X_batch = X_train[i:i + batch_size].to(device)\n",
        "        y_batch = y_train[i:i + batch_size].to(device)\n",
        "\n",
        "        # Forward pass\n",
        "        y_pred = model(X_batch)\n",
        "\n",
        "        # Calculate loss\n",
        "        loss = loss_fn(y_pred, y_batch)\n",
        "\n",
        "        # Backward pass and optimization\n",
        "        optimizer.zero_grad()\n",
        "        loss.backward()\n",
        "        optimizer.step()\n",
        "\n",
        "# Evaluate accuracy on the test set\n",
        "model.eval()\n",
        "with torch.no_grad():\n",
        "    y_pred = model(X_test.to(device))\n",
        "    y_pred = (y_pred > 0.5).float()  # Convert to binary predictions\n",
        "\n",
        "accuracy = (y_pred == y_test.to(device)).float().mean()\n",
        "print(f\"Accuracy: {accuracy.item()}\")\n",
        "\n",
        "# Make predictions on the first 5 samples\n",
        "predictions = (model(X_test[:5].to(device)) > 0.5).int()\n",
        "for i in range(5):\n",
        "    print('%s => %d (expected %d)' % (X_test[i].tolist(), predictions[i], y_test[i]))\n"
      ],
      "metadata": {
        "colab": {
          "base_uri": "https://localhost:8080/"
        },
        "id": "1VtTeGUKY0_j",
        "outputId": "ccce6395-e9f0-4c45-d9f6-a2e8b0860dff"
      },
      "execution_count": null,
      "outputs": [
        {
          "output_type": "stream",
          "name": "stdout",
          "text": [
            "Accuracy: 0.7792207598686218\n",
            "[0.639947235584259, -0.7165334820747375, -0.574127733707428, 0.7818138003349304, 0.9568596482276917, 0.25478047132492065, -0.1264714002609253, 0.8303811550140381] => 0 (expected 0)\n",
            "[-0.5479186177253723, -0.27837345004081726, 0.3047339916229248, 0.7190857529640198, -0.6928905844688416, 0.47054317593574524, -0.9781448841094971, -1.0415494441986084] => 0 (expected 0)\n",
            "[-0.5479186177253723, -0.4035620093345642, -0.2639412581920624, -1.2882121801376343, -0.6928905844688416, -0.1513611227273941, -0.9479436874389648, -1.0415494441986084] => 0 (expected 0)\n",
            "[1.2338801622390747, -0.43485915660858154, 0.5632227659225464, -1.2882121801376343, -0.6928905844688416, -0.9382604360580444, 1.1600991487503052, 0.06459135562181473] => 0 (expected 0)\n",
            "[0.9369137287139893, 0.47275805473327637, 1.0802001953125, -1.2882121801376343, -0.6928905844688416, -0.2655884325504303, -0.7908974885940552, 1.4259953498840332] => 0 (expected 0)\n"
          ]
        }
      ]
    }
  ]
}